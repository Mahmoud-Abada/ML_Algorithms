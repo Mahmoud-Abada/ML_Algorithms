{
 "cells": [
  {
   "cell_type": "markdown",
   "metadata": {},
   "source": [
    "# Importing necessary libraries"
   ]
  },
  {
   "cell_type": "code",
   "execution_count": 1,
   "metadata": {},
   "outputs": [],
   "source": [
    "import numpy as np\n",
    "import pandas as pd\n",
    "from sklearn.datasets import load_iris\n",
    "from sklearn.model_selection import train_test_split\n",
    "from sklearn.metrics import accuracy_score"
   ]
  },
  {
   "cell_type": "markdown",
   "metadata": {},
   "source": [
    "# Load the Iris dataset"
   ]
  },
  {
   "cell_type": "code",
   "execution_count": 2,
   "metadata": {},
   "outputs": [],
   "source": [
    "iris = load_iris()\n",
    "X = iris.data\n",
    "y = iris.target"
   ]
  },
  {
   "cell_type": "markdown",
   "metadata": {},
   "source": [
    "# Split the dataset into training and testing sets"
   ]
  },
  {
   "cell_type": "code",
   "execution_count": 3,
   "metadata": {},
   "outputs": [],
   "source": [
    "X_train, X_test, y_train, y_test = train_test_split(X, y, test_size=0.2, random_state=42)"
   ]
  },
  {
   "cell_type": "markdown",
   "metadata": {},
   "source": [
    "# Helper function: Bootstrap Sampling"
   ]
  },
  {
   "cell_type": "code",
   "execution_count": 4,
   "metadata": {},
   "outputs": [],
   "source": [
    "def bootstrap_sample(X, y):\n",
    "    \"\"\"\n",
    "    Generate a bootstrap sample from the dataset.\n",
    "    \"\"\"\n",
    "    n_samples = X.shape[0]\n",
    "    indices = np.random.choice(n_samples, n_samples, replace=True)\n",
    "    return X[indices], y[indices]"
   ]
  },
  {
   "cell_type": "markdown",
   "metadata": {},
   "source": [
    "# Helper function: Calculate Gini Impurity"
   ]
  },
  {
   "cell_type": "code",
   "execution_count": 5,
   "metadata": {},
   "outputs": [],
   "source": [
    "def gini_impurity(y):\n",
    "    \"\"\"\n",
    "    Calculate the Gini Impurity for a given set of labels.\n",
    "    \"\"\"\n",
    "    classes, counts = np.unique(y, return_counts=True)\n",
    "    probabilities = counts / counts.sum()\n",
    "    return 1 - np.sum(probabilities**2)"
   ]
  },
  {
   "cell_type": "markdown",
   "metadata": {},
   "source": [
    "# Helper function: Split the Dataset"
   ]
  },
  {
   "cell_type": "code",
   "execution_count": 6,
   "metadata": {},
   "outputs": [],
   "source": [
    "def split_dataset(X, y, feature_index, threshold):\n",
    "    \"\"\"\n",
    "    Split the dataset based on the feature index and threshold.\n",
    "    \"\"\"\n",
    "    left_indices = X[:, feature_index] <= threshold\n",
    "    right_indices = X[:, feature_index] > threshold\n",
    "    return X[left_indices], X[right_indices], y[left_indices], y[right_indices]"
   ]
  },
  {
   "cell_type": "markdown",
   "metadata": {},
   "source": [
    "# Helper function: Find the Best Split"
   ]
  },
  {
   "cell_type": "code",
   "execution_count": 7,
   "metadata": {},
   "outputs": [],
   "source": [
    "def find_best_split(X, y):\n",
    "    \"\"\"\n",
    "    Find the best split for a decision tree node.\n",
    "    \"\"\"\n",
    "    n_samples, n_features = X.shape\n",
    "    best_gini = float(\"inf\")\n",
    "    best_split = None\n",
    "\n",
    "    for feature_index in range(n_features):\n",
    "        thresholds = np.unique(X[:, feature_index])\n",
    "        for threshold in thresholds:\n",
    "            _, _, y_left, y_right = split_dataset(X, y, feature_index, threshold)\n",
    "            if len(y_left) == 0 or len(y_right) == 0:\n",
    "                continue\n",
    "\n",
    "            gini_left = gini_impurity(y_left)\n",
    "            gini_right = gini_impurity(y_right)\n",
    "            weighted_gini = (len(y_left) * gini_left + len(y_right) * gini_right) / n_samples\n",
    "\n",
    "            if weighted_gini < best_gini:\n",
    "                best_gini = weighted_gini\n",
    "                best_split = {\n",
    "                    \"feature_index\": feature_index,\n",
    "                    \"threshold\": threshold,\n",
    "                    \"gini\": best_gini,\n",
    "                }\n",
    "    return best_split"
   ]
  },
  {
   "cell_type": "markdown",
   "metadata": {},
   "source": [
    "# Decision Tree Classifier"
   ]
  },
  {
   "cell_type": "code",
   "execution_count": 8,
   "metadata": {},
   "outputs": [],
   "source": [
    "class DecisionTree:\n",
    "    def __init__(self, max_depth=None):\n",
    "        self.max_depth = max_depth\n",
    "        self.tree = None\n",
    "\n",
    "    def fit(self, X, y, depth=0):\n",
    "        \"\"\"\n",
    "        Train the decision tree recursively.\n",
    "        \"\"\"\n",
    "        n_samples, n_features = X.shape\n",
    "        num_classes = len(np.unique(y))\n",
    "\n",
    "        # Stopping conditions\n",
    "        if depth == self.max_depth or n_samples <= 1 or num_classes == 1:\n",
    "            self.tree = np.argmax(np.bincount(y))\n",
    "            return\n",
    "\n",
    "        # Find the best split\n",
    "        split = find_best_split(X, y)\n",
    "        if not split:\n",
    "            self.tree = np.argmax(np.bincount(y))\n",
    "            return\n",
    "\n",
    "        # Split the dataset\n",
    "        X_left, X_right, y_left, y_right = split_dataset(X, y, split[\"feature_index\"], split[\"threshold\"])\n",
    "        if len(y_left) == 0 or len(y_right) == 0:\n",
    "            self.tree = np.argmax(np.bincount(y))\n",
    "            return\n",
    "\n",
    "        # Create child nodes\n",
    "        self.tree = {\n",
    "            \"feature_index\": split[\"feature_index\"],\n",
    "            \"threshold\": split[\"threshold\"],\n",
    "            \"left\": DecisionTree(max_depth=self.max_depth),\n",
    "            \"right\": DecisionTree(max_depth=self.max_depth),\n",
    "        }\n",
    "        self.tree[\"left\"].fit(X_left, y_left, depth + 1)\n",
    "        self.tree[\"right\"].fit(X_right, y_right, depth + 1)\n",
    "\n",
    "    def predict(self, X):\n",
    "        \"\"\"\n",
    "        Predict the class for a single sample.\n",
    "        \"\"\"\n",
    "        if isinstance(self.tree, dict):\n",
    "            feature_index = self.tree[\"feature_index\"]\n",
    "            threshold = self.tree[\"threshold\"]\n",
    "            if X[feature_index] <= threshold:\n",
    "                return self.tree[\"left\"].predict(X)\n",
    "            else:\n",
    "                return self.tree[\"right\"].predict(X)\n",
    "        else:\n",
    "            return self.tree"
   ]
  },
  {
   "cell_type": "markdown",
   "metadata": {},
   "source": [
    "# Random Forest Classifier"
   ]
  },
  {
   "cell_type": "code",
   "execution_count": 9,
   "metadata": {},
   "outputs": [],
   "source": [
    "class RandomForestClassifier:\n",
    "    def __init__(self, n_estimators=10, max_depth=None):\n",
    "        self.n_estimators = n_estimators\n",
    "        self.max_depth = max_depth\n",
    "        self.trees = []\n",
    "\n",
    "    def fit(self, X, y):\n",
    "        \"\"\"\n",
    "        Train the random forest by fitting multiple decision trees.\n",
    "        \"\"\"\n",
    "        self.trees = []\n",
    "        for _ in range(self.n_estimators):\n",
    "            tree = DecisionTree(max_depth=self.max_depth)\n",
    "            X_sample, y_sample = bootstrap_sample(X, y)\n",
    "            tree.fit(X_sample, y_sample)\n",
    "            self.trees.append(tree)\n",
    "\n",
    "    def predict(self, X):\n",
    "        \"\"\"\n",
    "        Predict the class for each sample by aggregating predictions from all trees.\n",
    "        \"\"\"\n",
    "        tree_predictions = np.array([tree.predict(x) for x in X for tree in self.trees]).reshape(len(self.trees), -1)\n",
    "        majority_vote = [np.bincount(tree_predictions[:, i]).argmax() for i in range(tree_predictions.shape[1])]\n",
    "        return np.array(majority_vote)\n"
   ]
  },
  {
   "cell_type": "markdown",
   "metadata": {},
   "source": [
    "# Train the Random Forest Classifier"
   ]
  },
  {
   "cell_type": "code",
   "execution_count": 10,
   "metadata": {},
   "outputs": [],
   "source": [
    "rf_classifier = RandomForestClassifier(n_estimators=10, max_depth=5)\n",
    "rf_classifier.fit(X_train, y_train)\n",
    "y_pred = rf_classifier.predict(X_test)"
   ]
  },
  {
   "cell_type": "markdown",
   "metadata": {},
   "source": [
    "# Evaluate the classifier"
   ]
  },
  {
   "cell_type": "code",
   "execution_count": 11,
   "metadata": {},
   "outputs": [
    {
     "data": {
      "text/plain": [
       "0.43333333333333335"
      ]
     },
     "execution_count": 11,
     "metadata": {},
     "output_type": "execute_result"
    }
   ],
   "source": [
    "accuracy = accuracy_score(y_test, y_pred)\n",
    "accuracy"
   ]
  }
 ],
 "metadata": {
  "kernelspec": {
   "display_name": "env",
   "language": "python",
   "name": "python3"
  },
  "language_info": {
   "codemirror_mode": {
    "name": "ipython",
    "version": 3
   },
   "file_extension": ".py",
   "mimetype": "text/x-python",
   "name": "python",
   "nbconvert_exporter": "python",
   "pygments_lexer": "ipython3",
   "version": "3.11.9"
  }
 },
 "nbformat": 4,
 "nbformat_minor": 2
}
