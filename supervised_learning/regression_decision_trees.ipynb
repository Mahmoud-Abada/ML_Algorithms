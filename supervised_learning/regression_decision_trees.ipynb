{
 "cells": [
  {
   "cell_type": "markdown",
   "metadata": {},
   "source": [
    "# Import Required Libraries"
   ]
  },
  {
   "cell_type": "code",
   "execution_count": 1,
   "metadata": {},
   "outputs": [],
   "source": [
    "import numpy as np\n",
    "from sklearn.model_selection import train_test_split\n",
    "import matplotlib.pyplot as plt"
   ]
  },
  {
   "cell_type": "markdown",
   "metadata": {},
   "source": [
    "# Define the Regression Decision Tree Class"
   ]
  },
  {
   "cell_type": "code",
   "execution_count": 2,
   "metadata": {},
   "outputs": [],
   "source": [
    "class RegressionDecisionTree:\n",
    "    def __init__(self, max_depth=None, min_samples_split=2):\n",
    "        self.max_depth = max_depth\n",
    "        self.min_samples_split = min_samples_split\n",
    "        self.tree = None\n",
    "\n",
    "    def _mse(self, groups):\n",
    "        \"\"\"Calculate the Mean Squared Error for a split.\"\"\"\n",
    "        mse = 0.0\n",
    "        for group in groups:\n",
    "            if len(group) == 0:\n",
    "                continue\n",
    "            target = group[:, -1]\n",
    "            mean = np.mean(target)\n",
    "            mse += np.sum((target - mean) ** 2)\n",
    "        return mse\n",
    "\n",
    "    def _split(self, index, value, dataset):\n",
    "        \"\"\"Split a dataset into left and right groups.\"\"\"\n",
    "        left, right = [], []\n",
    "        for row in dataset:\n",
    "            if row[index] < value:\n",
    "                left.append(row)\n",
    "            else:\n",
    "                right.append(row)\n",
    "        return np.array(left), np.array(right)\n",
    "\n",
    "    def _best_split(self, dataset):\n",
    "        \"\"\"Find the best split based on MSE.\"\"\"\n",
    "        best_index, best_value, best_score, best_groups = None, None, float(\"inf\"), None\n",
    "        for index in range(dataset.shape[1] - 1):  # Exclude target column\n",
    "            for row in dataset:\n",
    "                groups = self._split(index, row[index], dataset)\n",
    "                if any(len(group) == 0 for group in groups):\n",
    "                    continue\n",
    "                mse = self._mse(groups)\n",
    "                if mse < best_score:\n",
    "                    best_index, best_value, best_score, best_groups = index, row[index], mse, groups\n",
    "        return {'index': best_index, 'value': best_value, 'groups': best_groups}\n",
    "\n",
    "    def _to_terminal(self, group):\n",
    "        \"\"\"Create a terminal node with the mean of the target.\"\"\"\n",
    "        return np.mean(group[:, -1])\n",
    "\n",
    "    def _split_node(self, node, depth):\n",
    "        \"\"\"Split the data or make terminal nodes.\"\"\"\n",
    "        left, right = node['groups']\n",
    "        del node['groups']\n",
    "\n",
    "        # Check for no split\n",
    "        if not len(left) or not len(right):\n",
    "            node['left'] = node['right'] = self._to_terminal(np.vstack((left, right)))\n",
    "            return\n",
    "\n",
    "        # Check for maximum depth\n",
    "        if self.max_depth and depth >= self.max_depth:\n",
    "            node['left'], node['right'] = self._to_terminal(left), self._to_terminal(right)\n",
    "            return\n",
    "\n",
    "        # Process left child\n",
    "        if len(left) <= self.min_samples_split:\n",
    "            node['left'] = self._to_terminal(left)\n",
    "        else:\n",
    "            node['left'] = self._best_split(left)\n",
    "            self._split_node(node['left'], depth + 1)\n",
    "\n",
    "        # Process right child\n",
    "        if len(right) <= self.min_samples_split:\n",
    "            node['right'] = self._to_terminal(right)\n",
    "        else:\n",
    "            node['right'] = self._best_split(right)\n",
    "            self._split_node(node['right'], depth + 1)\n",
    "\n",
    "    def fit(self, X, y):\n",
    "        \"\"\"Fit the Regression Tree to the dataset.\"\"\"\n",
    "        dataset = np.hstack((X, y.reshape(-1, 1)))\n",
    "        self.tree = self._best_split(dataset)\n",
    "        self._split_node(self.tree, 1)\n",
    "\n",
    "    def _predict(self, node, row):\n",
    "        \"\"\"Make a prediction for a single sample.\"\"\"\n",
    "        if row[node['index']] < node['value']:\n",
    "            if isinstance(node['left'], dict):\n",
    "                return self._predict(node['left'], row)\n",
    "            else:\n",
    "                return node['left']\n",
    "        else:\n",
    "            if isinstance(node['right'], dict):\n",
    "                return self._predict(node['right'], row)\n",
    "            else:\n",
    "                return node['right']\n",
    "\n",
    "    def predict(self, X):\n",
    "        \"\"\"Predict values for samples in X.\"\"\"\n",
    "        return np.array([self._predict(self.tree, row) for row in X])\n"
   ]
  },
  {
   "cell_type": "markdown",
   "metadata": {},
   "source": [
    "# Generate Synthetic Regression Data"
   ]
  },
  {
   "cell_type": "code",
   "execution_count": 3,
   "metadata": {},
   "outputs": [],
   "source": [
    "np.random.seed(42)\n",
    "X = np.random.rand(100, 1) * 10  # Single feature\n",
    "y = 2 * X.flatten() + np.random.randn(100) * 2  # Linear trend with noise\n",
    "\n",
    "# Train-Test Split\n",
    "X_train, X_test, y_train, y_test = train_test_split(X, y, test_size=0.2, random_state=42)"
   ]
  },
  {
   "cell_type": "code",
   "execution_count": null,
   "metadata": {},
   "outputs": [],
   "source": []
  }
 ],
 "metadata": {
  "kernelspec": {
   "display_name": "env",
   "language": "python",
   "name": "python3"
  },
  "language_info": {
   "codemirror_mode": {
    "name": "ipython",
    "version": 3
   },
   "file_extension": ".py",
   "mimetype": "text/x-python",
   "name": "python",
   "nbconvert_exporter": "python",
   "pygments_lexer": "ipython3",
   "version": "3.11.9"
  }
 },
 "nbformat": 4,
 "nbformat_minor": 2
}
